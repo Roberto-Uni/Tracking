{
  "cells": [
    {
      "cell_type": "code",
      "execution_count": 4,
      "metadata": {
        "colab": {
          "base_uri": "https://localhost:8080/"
        },
        "id": "WyTGGWUa5YqG",
        "outputId": "1f891451-d7e5-4d3a-954e-37acf4e43e9b"
      },
      "outputs": [
        {
          "name": "stdout",
          "output_type": "stream",
          "text": [
            "^C\n",
            "Note: you may need to restart the kernel to use updated packages.\n"
          ]
        }
      ],
      "source": [
        "%pip install -r yolov7/requirements.txt"
      ]
    },
    {
      "cell_type": "code",
      "execution_count": 4,
      "metadata": {},
      "outputs": [
        {
          "ename": "ModuleNotFoundError",
          "evalue": "No module named 'tensorflow'",
          "output_type": "error",
          "traceback": [
            "\u001b[1;31m---------------------------------------------------------------------------\u001b[0m",
            "\u001b[1;31mModuleNotFoundError\u001b[0m                       Traceback (most recent call last)",
            "\u001b[1;32m~\\AppData\\Local\\Temp\\ipykernel_7444\\1638745390.py\u001b[0m in \u001b[0;36m<module>\u001b[1;34m\u001b[0m\n\u001b[0;32m      1\u001b[0m \u001b[0mget_ipython\u001b[0m\u001b[1;33m(\u001b[0m\u001b[1;33m)\u001b[0m\u001b[1;33m.\u001b[0m\u001b[0msystem\u001b[0m\u001b[1;33m(\u001b[0m\u001b[1;34m'conda activate base'\u001b[0m\u001b[1;33m)\u001b[0m\u001b[1;33m\u001b[0m\u001b[1;33m\u001b[0m\u001b[0m\n\u001b[1;32m----> 2\u001b[1;33m \u001b[1;32mimport\u001b[0m \u001b[0mtensorflow\u001b[0m \u001b[1;32mas\u001b[0m \u001b[0mtf\u001b[0m\u001b[1;33m\u001b[0m\u001b[1;33m\u001b[0m\u001b[0m\n\u001b[0m\u001b[0;32m      3\u001b[0m \u001b[0mprint\u001b[0m\u001b[1;33m(\u001b[0m\u001b[1;34m\"Num GPUs Available: \"\u001b[0m\u001b[1;33m,\u001b[0m \u001b[0mlen\u001b[0m\u001b[1;33m(\u001b[0m\u001b[0mtf\u001b[0m\u001b[1;33m.\u001b[0m\u001b[0mconfig\u001b[0m\u001b[1;33m.\u001b[0m\u001b[0mlist_physical_devices\u001b[0m\u001b[1;33m(\u001b[0m\u001b[1;34m'GPU'\u001b[0m\u001b[1;33m)\u001b[0m\u001b[1;33m)\u001b[0m\u001b[1;33m)\u001b[0m\u001b[1;33m\u001b[0m\u001b[1;33m\u001b[0m\u001b[0m\n",
            "\u001b[1;31mModuleNotFoundError\u001b[0m: No module named 'tensorflow'"
          ]
        }
      ],
      "source": [
        "!conda activate base\n",
        "import tensorflow as tf\n",
        "print(\"Num GPUs Available: \", len(tf.config.list_physical_devices('GPU')))"
      ]
    },
    {
      "cell_type": "code",
      "execution_count": 2,
      "metadata": {
        "colab": {
          "base_uri": "https://localhost:8080/"
        },
        "id": "odaUYBs85c3m",
        "outputId": "1f13ace8-3f21-4c1e-ca26-58bb274098a1"
      },
      "outputs": [
        {
          "name": "stdout",
          "output_type": "stream",
          "text": [
            "Namespace(weights=['yolov7.pt'], source='/content/drive/MyDrive/output2.mp4', img_size=640, conf_thres=0.25, iou_thres=0.45, device='0', view_img=False, save_txt=True, save_conf=True, nosave=False, classes=[2, 3, 5, 7], agnostic_nms=False, augment=False, update=False, project='runs/detect', name='video', exist_ok=False, no_trace=False)\n"
          ]
        },
        {
          "name": "stderr",
          "output_type": "stream",
          "text": [
            "Traceback (most recent call last):\n",
            "  File \"d:\\Clase\\4r\\Primer Cuatrimestre\\MAPSIV\\reto 2\\github\\yolov7\\detect.py\", line 291, in <module>\n",
            "    detect()\n",
            "  File \"d:\\ProgramFiles\\anaconda3\\lib\\site-packages\\numba\\core\\dispatcher.py\", line 471, in _compile_for_args\n",
            "    error_rewrite(e, 'unsupported_error')\n",
            "  File \"d:\\ProgramFiles\\anaconda3\\lib\\site-packages\\numba\\core\\dispatcher.py\", line 409, in error_rewrite\n",
            "    raise e.with_traceback(None)\n",
            "numba.core.errors.UnsupportedError: Failed in object mode pipeline (step: analyzing bytecode)\n",
            "\u001b[1mformat spec in f-strings not supported yet\n",
            "\u001b[1m\n",
            "File \"yolov7\\detect.py\", line 258:\u001b[0m\n",
            "\u001b[1mdef detect(save_img=False):\n",
            "    <source elided>\n",
            "\n",
            "\u001b[1m    print(f'Done. ({time.time() - t0:.3f}s)')\n",
            "\u001b[0m    \u001b[1m^\u001b[0m\u001b[0m\n",
            "\u001b[0m\n"
          ]
        }
      ],
      "source": [
        "!conda activate base\n",
        "!python yolov7/detect.py --weights yolov7.pt --conf 0.25 --img-size 640 --source /content/drive/MyDrive/output2.mp4 --name video --device 0 --save-txt --save-conf --classes 2 3 5 7"
      ]
    }
  ],
  "metadata": {
    "accelerator": "GPU",
    "colab": {
      "provenance": []
    },
    "kernelspec": {
      "display_name": "Python 3.9.13 ('base')",
      "language": "python",
      "name": "python3"
    },
    "language_info": {
      "codemirror_mode": {
        "name": "ipython",
        "version": 3
      },
      "file_extension": ".py",
      "mimetype": "text/x-python",
      "name": "python",
      "nbconvert_exporter": "python",
      "pygments_lexer": "ipython3",
      "version": "3.9.13"
    },
    "vscode": {
      "interpreter": {
        "hash": "bddb6c94227d8177e61600db041b4cc1c87a884063126e29a3bfd540ed5196fb"
      }
    }
  },
  "nbformat": 4,
  "nbformat_minor": 0
}
