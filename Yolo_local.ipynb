{
  "cells": [
    {
      "cell_type": "code",
      "execution_count": 3,
      "metadata": {
        "colab": {
          "base_uri": "https://localhost:8080/"
        },
        "id": "WyTGGWUa5YqG",
        "outputId": "1f891451-d7e5-4d3a-954e-37acf4e43e9b"
      },
      "outputs": [],
      "source": [
        "# Proceder con precaucion"
      ]
    },
    {
      "cell_type": "code",
      "execution_count": 7,
      "metadata": {
        "colab": {
          "base_uri": "https://localhost:8080/"
        },
        "id": "JzoYe-WA5bwy",
        "outputId": "1201ae64-eaf5-406a-8f81-0fe270ce77ed"
      },
      "outputs": [
        {
          "name": "stderr",
          "output_type": "stream",
          "text": [
            "Connecting to github.com (140.82.121.3:443)\n",
            "Connecting to objects.githubusercontent.com (185.199.111.133:443)\n",
            "wget: can't open 'yolov7.pt': File exists\n",
            "Connecting to github.com (140.82.121.3:443)\n",
            "Connecting to objects.githubusercontent.com (185.199.111.133:443)\n",
            "saving to 'yolov7-tiny.pt'\n",
            "'yolov7-tiny.pt' saved\n"
          ]
        }
      ],
      "source": [
        "!wget https://github.com/WongKinYiu/yolov7/releases/download/v0.1/yolov7.pt\n",
        "!wget https://github.com/WongKinYiu/yolov7/releases/download/v0.1/yolov7-tiny.pt"
      ]
    },
    {
      "cell_type": "markdown",
      "metadata": {},
      "source": [
        " --view-img"
      ]
    },
    {
      "cell_type": "code",
      "execution_count": 2,
      "metadata": {
        "colab": {
          "base_uri": "https://localhost:8080/"
        },
        "id": "odaUYBs85c3m",
        "outputId": "1f13ace8-3f21-4c1e-ca26-58bb274098a1"
      },
      "outputs": [
        {
          "name": "stdout",
          "output_type": "stream",
          "text": [
            "^C\n"
          ]
        }
      ],
      "source": [
        "!python yolov7/detect.py --weights yolov7-tiny.pt --conf 0.25 --img-size 640 --source output2.mp4 --name video --device 0 --save-conf --classes 2 3 5 7"
      ]
    }
  ],
  "metadata": {
    "accelerator": "GPU",
    "colab": {
      "provenance": []
    },
    "kernelspec": {
      "display_name": "Python 3.9.13 ('Test')",
      "language": "python",
      "name": "python3"
    },
    "language_info": {
      "codemirror_mode": {
        "name": "ipython",
        "version": 3
      },
      "file_extension": ".py",
      "mimetype": "text/x-python",
      "name": "python",
      "nbconvert_exporter": "python",
      "pygments_lexer": "ipython3",
      "version": "3.9.13"
    },
    "vscode": {
      "interpreter": {
        "hash": "8c5a639ab998adbafacfcbdc209123b50bd8ebe88df109f6f91c62ed3fe0bc8b"
      }
    }
  },
  "nbformat": 4,
  "nbformat_minor": 0
}
